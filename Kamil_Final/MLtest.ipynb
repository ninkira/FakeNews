{
 "cells": [
  {
   "cell_type": "code",
   "execution_count": 1,
   "id": "f50129f8",
   "metadata": {},
   "outputs": [],
   "source": [
    "#Test für den bestmöglichen Lernalgorithmus, durchgeführt mit den einfach bereinigten Daten(160-Set) \n",
    "\n",
    "\n",
    "from sklearn.model_selection import train_test_split\n",
    "from sklearn.feature_extraction.text import CountVectorizer\n",
    "from sklearn.feature_extraction.text import TfidfTransformer\n",
    "from sklearn.naive_bayes import MultinomialNB\n",
    "from sklearn.feature_extraction.text import TfidfVectorizer\n",
    "import pandas  as pd\n",
    "from io import StringIO\n",
    "from sklearn.linear_model import LogisticRegression\n",
    "from sklearn.ensemble import RandomForestClassifier\n",
    "from sklearn.naive_bayes import MultinomialNB\n",
    "from sklearn.svm import LinearSVC\n",
    "from sklearn.model_selection import train_test_split\n",
    "from sklearn import metrics\n",
    "from sklearn.model_selection import cross_val_score\n",
    "from sklearn.model_selection import train_test_split"
   ]
  },
  {
   "cell_type": "code",
   "execution_count": 2,
   "id": "4fb75d91",
   "metadata": {},
   "outputs": [],
   "source": [
    "data = pd.read_csv('data/preprocessed_data/basic_cleaned_160.csv')"
   ]
  },
  {
   "cell_type": "code",
   "execution_count": 4,
   "id": "a6af6d3d",
   "metadata": {},
   "outputs": [],
   "source": [
    "col = ['content', 'author']\n",
    "data = data[col]\n",
    "data.columns =['content', 'author']"
   ]
  },
  {
   "cell_type": "code",
   "execution_count": 5,
   "id": "750f7f66",
   "metadata": {},
   "outputs": [],
   "source": [
    "data['author_id'] = data['author'].factorize()[0]\n",
    "product_id_data = data[['author', 'author_id']].drop_duplicates().sort_values('author_id')\n",
    "product_to_id = dict(product_id_data.values)\n",
    "id_to_product = dict(product_id_data[['author_id', 'author']].values)"
   ]
  },
  {
   "cell_type": "code",
   "execution_count": 6,
   "id": "f4c42b3f",
   "metadata": {},
   "outputs": [],
   "source": [
    "tfidf = TfidfVectorizer(sublinear_tf=True, min_df=5, norm='l2', encoding='utf-8', ngram_range=(1, 2))\n",
    "features = tfidf.fit_transform(data.content.values.astype('U')).toarray()"
   ]
  },
  {
   "cell_type": "code",
   "execution_count": 7,
   "id": "acbb47e3",
   "metadata": {},
   "outputs": [],
   "source": [
    "labels = data.author_id"
   ]
  },
  {
   "cell_type": "code",
   "execution_count": 8,
   "id": "b46e9cc9",
   "metadata": {},
   "outputs": [],
   "source": [
    "X_train, X_test, y_train, y_test = train_test_split(data['content'].values.astype('U'), data['author'].values.astype('U'), random_state = 0)\n",
    "count_vect = CountVectorizer()\n",
    "X_train_counts = count_vect.fit_transform(X_train)\n",
    "tfidf_transformer = TfidfTransformer()\n",
    "X_train_tfidf = tfidf_transformer.fit_transform(X_train_counts)\n",
    "clf = MultinomialNB().fit(X_train_tfidf, y_train)"
   ]
  },
  {
   "cell_type": "code",
   "execution_count": 9,
   "id": "ec9d5646",
   "metadata": {},
   "outputs": [],
   "source": [
    "models = [\n",
    "    RandomForestClassifier(n_estimators=200, max_depth=3, random_state=0),\n",
    "    LinearSVC(),#Linear Support Vector Classification.\n",
    "    MultinomialNB(),#Naive Bayes classifier for multinomial models\n",
    "    LogisticRegression(random_state=0),\n",
    "]\n",
    "CV = 10\n",
    "cv_df = pd.DataFrame(index=range(CV * len(models)))\n",
    "entries = []\n",
    "for model in models:\n",
    "    model_name = model.__class__.__name__\n",
    "    accuracies = cross_val_score(model, features, labels, scoring='accuracy', cv=CV)\n",
    "    for fold_idx, accuracy in enumerate(accuracies):\n",
    "        entries.append((model_name, fold_idx, accuracy))\n",
    "cv_df = pd.DataFrame(entries, columns=['model_name', 'fold_idx', 'accuracy'])"
   ]
  },
  {
   "cell_type": "code",
   "execution_count": 10,
   "id": "376040c5",
   "metadata": {},
   "outputs": [
    {
     "data": {
      "text/plain": [
       "model_name\n",
       "LinearSVC                 0.531250\n",
       "LogisticRegression        0.545312\n",
       "MultinomialNB             0.507812\n",
       "RandomForestClassifier    0.519531\n",
       "Name: accuracy, dtype: float64"
      ]
     },
     "execution_count": 10,
     "metadata": {},
     "output_type": "execute_result"
    }
   ],
   "source": [
    "#Logistische Regression hat den besten Accuracy-Score\n",
    "\n",
    "cv_df.groupby('model_name').accuracy.mean()"
   ]
  }
 ],
 "metadata": {
  "kernelspec": {
   "display_name": "Python 3 (ipykernel)",
   "language": "python",
   "name": "python3"
  },
  "language_info": {
   "codemirror_mode": {
    "name": "ipython",
    "version": 3
   },
   "file_extension": ".py",
   "mimetype": "text/x-python",
   "name": "python",
   "nbconvert_exporter": "python",
   "pygments_lexer": "ipython3",
   "version": "3.9.7"
  }
 },
 "nbformat": 4,
 "nbformat_minor": 5
}
