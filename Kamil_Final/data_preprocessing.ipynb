{
 "cells": [
  {
   "cell_type": "code",
   "execution_count": 1,
   "id": "699d58fb",
   "metadata": {},
   "outputs": [],
   "source": [
    "import pandas as pd\n",
    "import re\n",
    "import os\n",
    "import glob\n",
    "import json\n",
    "from stop_words import get_stop_words"
   ]
  },
  {
   "cell_type": "code",
   "execution_count": 2,
   "id": "bf78be0e",
   "metadata": {},
   "outputs": [
    {
     "data": {
      "text/html": [
       "<div>\n",
       "<style scoped>\n",
       "    .dataframe tbody tr th:only-of-type {\n",
       "        vertical-align: middle;\n",
       "    }\n",
       "\n",
       "    .dataframe tbody tr th {\n",
       "        vertical-align: top;\n",
       "    }\n",
       "\n",
       "    .dataframe thead th {\n",
       "        text-align: right;\n",
       "    }\n",
       "</style>\n",
       "<table border=\"1\" class=\"dataframe\">\n",
       "  <thead>\n",
       "    <tr style=\"text-align: right;\">\n",
       "      <th></th>\n",
       "      <th>content</th>\n",
       "      <th>author</th>\n",
       "    </tr>\n",
       "  </thead>\n",
       "  <tbody>\n",
       "    <tr>\n",
       "      <th>0</th>\n",
       "      <td>Zwölfjähriger durch Feuerwerks-Explosion getöt...</td>\n",
       "      <td>welt</td>\n",
       "    </tr>\n",
       "    <tr>\n",
       "      <th>1</th>\n",
       "      <td>Lauterbach teilt Meme von sich bei Twitter - „...</td>\n",
       "      <td>welt</td>\n",
       "    </tr>\n",
       "    <tr>\n",
       "      <th>2</th>\n",
       "      <td>„Golden Girls“-Star Betty White stirbt mit 99 ...</td>\n",
       "      <td>welt</td>\n",
       "    </tr>\n",
       "    <tr>\n",
       "      <th>3</th>\n",
       "      <td>Lauterbach teilt Meme von sich auf Twitter - „...</td>\n",
       "      <td>welt</td>\n",
       "    </tr>\n",
       "    <tr>\n",
       "      <th>4</th>\n",
       "      <td>„Golden Girls“-Star Betty White stirbt mit 99 ...</td>\n",
       "      <td>welt</td>\n",
       "    </tr>\n",
       "    <tr>\n",
       "      <th>...</th>\n",
       "      <td>...</td>\n",
       "      <td>...</td>\n",
       "    </tr>\n",
       "    <tr>\n",
       "      <th>155</th>\n",
       "      <td>2022 soll Gas noch teurer werden. Worauf man a...</td>\n",
       "      <td>SZ</td>\n",
       "    </tr>\n",
       "    <tr>\n",
       "      <th>156</th>\n",
       "      <td>Bücher des Jahres - Das SZ-Feuilleton hat Schr...</td>\n",
       "      <td>SZ</td>\n",
       "    </tr>\n",
       "    <tr>\n",
       "      <th>157</th>\n",
       "      <td>In Hongkong wurden erneut Journalisten festgen...</td>\n",
       "      <td>SZ</td>\n",
       "    </tr>\n",
       "    <tr>\n",
       "      <th>158</th>\n",
       "      <td>#Corona aktuell:  Inzidenz sinkt laut RKI leic...</td>\n",
       "      <td>SZ</td>\n",
       "    </tr>\n",
       "    <tr>\n",
       "      <th>159</th>\n",
       "      <td>Coronavirus: Mit Johnson &amp;amp; Johnson geimpft...</td>\n",
       "      <td>SZ</td>\n",
       "    </tr>\n",
       "  </tbody>\n",
       "</table>\n",
       "<p>1280 rows × 2 columns</p>\n",
       "</div>"
      ],
      "text/plain": [
       "                                               content author\n",
       "0    Zwölfjähriger durch Feuerwerks-Explosion getöt...   welt\n",
       "1    Lauterbach teilt Meme von sich bei Twitter - „...   welt\n",
       "2    „Golden Girls“-Star Betty White stirbt mit 99 ...   welt\n",
       "3    Lauterbach teilt Meme von sich auf Twitter - „...   welt\n",
       "4    „Golden Girls“-Star Betty White stirbt mit 99 ...   welt\n",
       "..                                                 ...    ...\n",
       "155  2022 soll Gas noch teurer werden. Worauf man a...     SZ\n",
       "156  Bücher des Jahres - Das SZ-Feuilleton hat Schr...     SZ\n",
       "157  In Hongkong wurden erneut Journalisten festgen...     SZ\n",
       "158  #Corona aktuell:  Inzidenz sinkt laut RKI leic...     SZ\n",
       "159  Coronavirus: Mit Johnson &amp; Johnson geimpft...     SZ\n",
       "\n",
       "[1280 rows x 2 columns]"
      ]
     },
     "execution_count": 2,
     "metadata": {},
     "output_type": "execute_result"
    }
   ],
   "source": [
    "#Pfad zum Ordner mit den gescrapten JSON-Dateien\n",
    "json_dir = 'Data/Tweets_2021'\n",
    "json_pattern = os.path.join(json_dir, '*.json')\n",
    "file_list = glob.glob(json_pattern)\n",
    "\n",
    "\n",
    "#Zusammenfügen der 160 ersten Tweets jeder einzelnen JSON-Datei\n",
    "dfs = []\n",
    "for file in file_list:\n",
    "    with open(file) as f:\n",
    "        json_data = pd.json_normalize(json.loads(f.read())[:160])\n",
    "        \n",
    "    dfs.append(json_data)\n",
    "df = pd.concat(dfs)\n",
    "\n",
    "#Dataframe mit den benötigten Spalten für die Untersuchung\n",
    "df=df[[\"content\", \"author\"]]\n",
    "\n",
    "df"
   ]
  },
  {
   "cell_type": "code",
   "execution_count": 3,
   "id": "56846fc7",
   "metadata": {},
   "outputs": [
    {
     "name": "stderr",
     "output_type": "stream",
     "text": [
      "/var/folders/dm/8clh9yb15f57cnb27ptn_kp80000gn/T/ipykernel_11163/2103909680.py:9: FutureWarning: The default value of regex will change from True to False in a future version.\n",
      "  df['content'] = df['content'].str.replace('http\\S+|www.\\S+', '', case=False)\n",
      "/var/folders/dm/8clh9yb15f57cnb27ptn_kp80000gn/T/ipykernel_11163/2103909680.py:12: FutureWarning: The default value of regex will change from True to False in a future version.\n",
      "  df['content'] = df.content.str.replace(\"[^\\w\\s]\", \"\", case=False)\n",
      "/var/folders/dm/8clh9yb15f57cnb27ptn_kp80000gn/T/ipykernel_11163/2103909680.py:15: FutureWarning: The default value of regex will change from True to False in a future version.\n",
      "  df['content'] = df['content'].str.replace('\\d+', '', case=False)\n"
     ]
    }
   ],
   "source": [
    "#Einfache Bereinigung der Daten\n",
    "df = df.astype(str)\n",
    "\n",
    "#Entfernen der deutschen Stopwörter + Umwandlung aller Wörter in die Kleinschreibung\n",
    "stop_words = get_stop_words('german')\n",
    "df['content'] = df['content'].apply(lambda x: ' '.join([word for word in x.split() if word not in (stop_words)]).lower())\n",
    "\n",
    "#Entfernen des Links zu dem Originalartikel, dieser befindet sich immer zum Ende jedes Tweets\n",
    "df['content'] = df['content'].str.replace('http\\S+|www.\\S+', '', case=False)\n",
    "\n",
    "#Entfernen der Interpunktion\n",
    "df['content'] = df.content.str.replace(\"[^\\w\\s]\", \"\", case=False)\n",
    "\n",
    "#Entfernen aller Zahlen\n",
    "df['content'] = df['content'].str.replace('\\d+', '', case=False)\n",
    "\n",
    "#Speichern der CSV-Datei\n",
    "df.to_csv(\"Data/preprocessed_data/basic_cleaned_160.csv\", index=False)"
   ]
  },
  {
   "cell_type": "code",
   "execution_count": null,
   "id": "58289516",
   "metadata": {},
   "outputs": [],
   "source": [
    "#Entfernen von spezielle Wörter Zeitungspezifisch in den Tweets wiederholt werden, um den Schlauen Hans Phänomen entgegen zu wirken.\n",
    "#Diese Könnten mit dem \n",
    "\n",
    "df['content'] = df['content'].str.replace('meistgelesen', '')\n",
    "df['content'] = df['content'].str.replace('_martinhagen', '')\n",
    "df['content'] = df['content'].str.replace('šefčovič', '')\n",
    "df['content'] = df['content'].str.replace('aalborg', '')\n",
    "df['content'] = df['content'].str.replace('szplus', '')\n",
    "df['content'] = df['content'].str.replace('titanic', '')\n",
    "df['content'] = df['content'].str.replace('red', '')\n",
    "df['content'] = df['content'].str.replace('darkwing_doc', '')\n",
    "df['content'] = df['content'].str.replace('sz', '')\n",
    "df['content'] = df['content'].str.replace('fpiatov', '')\n",
    "df['content'] = df['content'].str.replace('nan', '')\n",
    "df['content'] = df['content'].str.replace('abo', '')\n",
    "df['content'] = df['content'].str.replace('bildlive', '')\n",
    "\n",
    "#Speichern der CSV-Datei\n",
    "df.to_csv(\"Data/preprocessed_data/strong_cleaned_160.csv\", index=False)"
   ]
  },
  {
   "cell_type": "code",
   "execution_count": 10,
   "id": "d16f6fba",
   "metadata": {},
   "outputs": [
    {
     "data": {
      "text/plain": [
       "<bound method NDFrame.head of                                                  content author\n",
       "0      zwölfjähriger feuerwerksexplosion getötet  man...   welt\n",
       "1      lauterbach teilt meme twitter  übertreibt nicht     welt\n",
       "2          golden girlsstar betty white stirbt  jahren     welt\n",
       "3      lauterbach teilt meme twitter  übertreibt nicht     welt\n",
       "4          golden girlsstar betty white stirbt  jahren     welt\n",
       "...                                                  ...    ...\n",
       "22926  dirigent franz welsermöst spricht interview ga...     SZ\n",
       "22927  in communities dits mom for a minute nutzer fr...     SZ\n",
       "22928  wir akzeptieren derzeit massive einschränkunge...     SZ\n",
       "22929  der brexit endgültig vollzogen werden reisen e...     SZ\n",
       "22930  fitness laufen was tun gute vorsätze wahr lass...     SZ\n",
       "\n",
       "[124539 rows x 2 columns]>"
      ]
     },
     "execution_count": 10,
     "metadata": {},
     "output_type": "execute_result"
    }
   ],
   "source": [
    "df.head"
   ]
  }
 ],
 "metadata": {
  "kernelspec": {
   "display_name": "Python 3 (ipykernel)",
   "language": "python",
   "name": "python3"
  },
  "language_info": {
   "codemirror_mode": {
    "name": "ipython",
    "version": 3
   },
   "file_extension": ".py",
   "mimetype": "text/x-python",
   "name": "python",
   "nbconvert_exporter": "python",
   "pygments_lexer": "ipython3",
   "version": "3.9.7"
  }
 },
 "nbformat": 4,
 "nbformat_minor": 5
}
